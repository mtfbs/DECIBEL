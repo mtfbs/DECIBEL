{
  "nbformat": 4,
  "nbformat_minor": 0,
  "metadata": {
    "colab": {
      "name": "Untitled2.ipynb",
      "provenance": [],
      "authorship_tag": "ABX9TyMQHURk1dUP8WMH3Ju8Musw",
      "include_colab_link": true
    },
    "kernelspec": {
      "name": "python3",
      "display_name": "Python 3"
    },
    "language_info": {
      "name": "python"
    }
  },
  "cells": [
    {
      "cell_type": "markdown",
      "metadata": {
        "id": "view-in-github",
        "colab_type": "text"
      },
      "source": [
        "<a href=\"https://colab.research.google.com/github/mtfbs/scalableDECIBEL/blob/master/lib_consumer.ipynb\" target=\"_parent\"><img src=\"https://colab.research.google.com/assets/colab-badge.svg\" alt=\"Open In Colab\"/></a>"
      ]
    },
    {
      "cell_type": "markdown",
      "metadata": {
        "id": "A3wfrmPPa1XO"
      },
      "source": [
        "Clone repo"
      ]
    },
    {
      "cell_type": "code",
      "metadata": {
        "id": "T4Z0ai3Oa26U"
      },
      "source": [
        "!git clone https://github.com/mtfbs/scalableDECIBEL\n",
        "%cd scalableDECIBEL"
      ],
      "execution_count": null,
      "outputs": []
    },
    {
      "cell_type": "markdown",
      "metadata": {
        "id": "7X8lzXr_bX3M"
      },
      "source": [
        "Install requirements"
      ]
    },
    {
      "cell_type": "code",
      "metadata": {
        "id": "Az_Jq09LbKJq"
      },
      "source": [
        "!pip install -r requirements.txt"
      ],
      "execution_count": null,
      "outputs": []
    },
    {
      "cell_type": "code",
      "metadata": {
        "id": "TSL0gzJQb2ym"
      },
      "source": [
        "%cd scalableDECIBEL"
      ],
      "execution_count": null,
      "outputs": []
    },
    {
      "cell_type": "code",
      "metadata": {
        "id": "XlsFcnugcC4g"
      },
      "source": [
        "!python3 setup.py build"
      ],
      "execution_count": null,
      "outputs": []
    },
    {
      "cell_type": "code",
      "metadata": {
        "id": "e2cTRRMVcMr8"
      },
      "source": [
        "!python3 setup.py install"
      ],
      "execution_count": null,
      "outputs": []
    },
    {
      "cell_type": "code",
      "metadata": {
        "id": "a7APRWgAcSDq"
      },
      "source": [
        "from decibel.interface.interface import interface\n",
        "interface()"
      ],
      "execution_count": 15,
      "outputs": []
    },
    {
      "cell_type": "code",
      "metadata": {
        "id": "7di1s47pdmZ1"
      },
      "source": [
        "from google.colab import drive\n",
        "drive.mount('/content/drive')"
      ],
      "execution_count": null,
      "outputs": []
    },
    {
      "cell_type": "code",
      "metadata": {
        "colab": {
          "base_uri": "https://localhost:8080/",
          "height": 486
        },
        "id": "VfYoN21CgwVB",
        "outputId": "f002a034-85ea-4de9-b988-c11dcbcacaa3"
      },
      "source": [
        "import os\n",
        "from decibel.web_integration.spotify_api import search_song\n",
        "from decibel.interface.interface import interface\n",
        "from decibel.file_scraper.tab_scraper import search_tabs\n",
        "from decibel.file_scraper.tab_scraper import download_tab\n",
        "from decibel.file_scraper.audio_scraper import dowload_mp3_from_youtube\n",
        "from youtube_search import YoutubeSearch\n",
        "from decibel.utils.deezer_spleeter_wrappers import spleet_and_replace_all_songs_from_directory\n",
        "import shutil\n",
        "\n",
        "\n",
        "\n",
        "def decibel_CLI():\n",
        "    clear = lambda: os.system('clear')\n",
        "\n",
        "    # Main screen\n",
        "    print(\" #### Welcome to DECIBEL CLI #### \", end='\\n\\n')\n",
        "    print(\"What do you want to do?\")\n",
        "    print(\"1 - Search a song\")\n",
        "    print(\"2 - Train a new Hidden Markov Model\")\n",
        "    input_number = int(input())\n",
        "    clear()\n",
        "    if input_number == 1:\n",
        "        print(\" ### Search song ### \")\n",
        "        print(\"Enter the name of the song:\")\n",
        "        song_name_input = input()\n",
        "        clear()\n",
        "        search_results = search_song(song_name_input)\n",
        "        if len(search_results) == 0:\n",
        "            print(\"Im sorry, could not find the song :/\")\n",
        "            return 0\n",
        "        print(\"Which one?\")\n",
        "        for i in range(0, len(search_results)):\n",
        "            print(f\"{i} --> {search_results[i]['song_title']} - {search_results[i]['artist_name']}\")\n",
        "        print('')\n",
        "        input_number = int(input('Song number: '))\n",
        "        song_title = search_results[input_number]['song_title']\n",
        "        artist_name = search_results[input_number]['artist_name']\n",
        "        song_id = search_results[input_number]['song_id']\n",
        "        print(\"song id (from spotify): \" + str(song_id))\n",
        "        clear()\n",
        "        current_dir = os.path.dirname(os.path.realpath(__file__))\n",
        "        print(\"Searching for tabs online...\")\n",
        "        url_list = search_tabs(song_title=song_title, absolute_write_path=current_dir, artist_name=artist_name, limit=6)\n",
        "        print(\"Which url looks more correct?\")\n",
        "        for i in range(0, len(url_list)):\n",
        "            print(f\"{i} --->  {url_list[i]}\")\n",
        "        input_number = int(input())\n",
        "        print(\"Downloading tab from the internet...\")\n",
        "        download_tab(\n",
        "            tab_url=url_list[input_number],\n",
        "            tab_directory=current_dir,\n",
        "            tab_name=f\"input_tab.txt\"\n",
        "        )\n",
        "        # search song from youtube\n",
        "        results = YoutubeSearch(song_title + ' ' + artist_name, max_results=5).to_dict()\n",
        "        print(\"Which title looks more correct?\")\n",
        "        for i in range(0, len(results)):\n",
        "            print(f\"{i} --->  {results[i]['title']}\")\n",
        "        input_number = int(input())\n",
        "        print(\"Downloading song from the internet...\")\n",
        "        video_url = results[input_number]['id']\n",
        "        dowload_mp3_from_youtube(video_url)\n",
        "        # os.rename(f\"{current_dir}/\")\n",
        "        # Process song normally\n",
        "        interface(interface_mode=\"analyze\", song_title=song_title, song_album='', song_artist=artist_name,data_path=current_dir, hmm_param_number=0)\n",
        "\n",
        "        # Show final result\n",
        "\n",
        "\n",
        "        # TODO - show results (final json file)\n",
        "\n",
        "\n",
        "\n",
        "    else:\n",
        "        print(\" ### Train HMM ### \")\n",
        "        print(\"Enter the absolute path to your 'Data' folder:\")\n",
        "        data_folder_path = input()\n",
        "        clear()\n",
        "        print(\"How many splits on KFold?\")\n",
        "        n_splits_input = int(input())\n",
        "        print(\"With what chord vocabulary?\")\n",
        "        chord_vocabularies = ['MajorMinor', 'MajorMinorSevenths']\n",
        "        for i in range(0, len(chord_vocabularies)):\n",
        "            print(f\"{i} --> {chord_vocabularies[i]}\")\n",
        "        chord_vocabulary_input = int(input())\n",
        "        print(\"Enable multithreading? (it may not work on windows and mac)\")\n",
        "        print(\" 1 - Yes\")\n",
        "        print(\" 2 - No\")\n",
        "        multithreading_input = int(input())\n",
        "        clear()\n",
        "        print(\"Pre-process dataset songs with Deezer Spleeter? (warning: it will take much longer).\")\n",
        "        print(\"1 - No\\n2 - Yes, with 2 stems (remove vocals)\\n3- Yes, with 4 stems (remove vocals and bass)\")\n",
        "        spleeter_input = int(input())\n",
        "        if spleeter_input == 2 or spleeter_input == 4:\n",
        "            print(\"Are you really sure? all files will be replaced with the results of the processing.\")\n",
        "            spleeter_input = int(input())\n",
        "            if spleeter_input == 2 or spleeter_input == 4:\n",
        "                if spleeter_input == 2:\n",
        "                    spleet_and_replace_all_songs_from_directory(\n",
        "                        working_directory_absolute_path=f\"{data_folder_path}/Input/Audio\",\n",
        "                        number_of_stems=2)\n",
        "                elif spleeter_input == 3:\n",
        "                    spleet_and_replace_all_songs_from_directory(\n",
        "                        working_directory_absolute_path=f\"{data_folder_path}/Input/Audio\",\n",
        "                        number_of_stems=4)\n",
        "        # Train HMM\n",
        "        interface(\n",
        "            interface_mode='train',\n",
        "            data_path=data_folder_path,\n",
        "            splits=n_splits_input,\n",
        "            multithreading=True if multithreading_input == 1 else False,\n",
        "            chord_vocabulary=\"MajorMinor\" if chord_vocabulary_input == 0 else \"MajorMinorSevenths\")\n",
        "\n",
        "\n",
        "        current_dir = os.path.dirname(os.path.realpath(__file__))\n",
        "\n",
        "\n",
        "        # move the trained models to the current folder (so it can be used for processing songs later)\n",
        "        # trazer os HMM Parâmetros gerados a este diretório e dar a opção de escolher qual deles rodar\n",
        "        hmmparameters_folder = data_folder_path + \"/Files/HMMParameters/\"\n",
        "        i = 0\n",
        "        for filename in os.listdir(hmmparameters_folder):\n",
        "            shutil.move(f\"{hmmparameters_folder}/{filename}\", f\"{current_dir}/input_HMMParameters_{i}.json\")\n",
        "            i += 1\n",
        "\n",
        "        # TODO - GOOGLE COLAB\n",
        "\n",
        "\n",
        "\n",
        "decibel_CLI()"
      ],
      "execution_count": 17,
      "outputs": [
        {
          "output_type": "error",
          "ename": "ModuleNotFoundError",
          "evalue": "ignored",
          "traceback": [
            "\u001b[0;31m---------------------------------------------------------------------------\u001b[0m",
            "\u001b[0;31mModuleNotFoundError\u001b[0m                       Traceback (most recent call last)",
            "\u001b[0;32m<ipython-input-17-7001bbbd49f9>\u001b[0m in \u001b[0;36m<module>\u001b[0;34m()\u001b[0m\n\u001b[1;32m      4\u001b[0m \u001b[0;32mfrom\u001b[0m \u001b[0mdecibel\u001b[0m\u001b[0;34m.\u001b[0m\u001b[0mfile_scraper\u001b[0m\u001b[0;34m.\u001b[0m\u001b[0mtab_scraper\u001b[0m \u001b[0;32mimport\u001b[0m \u001b[0msearch_tabs\u001b[0m\u001b[0;34m\u001b[0m\u001b[0;34m\u001b[0m\u001b[0m\n\u001b[1;32m      5\u001b[0m \u001b[0;32mfrom\u001b[0m \u001b[0mdecibel\u001b[0m\u001b[0;34m.\u001b[0m\u001b[0mfile_scraper\u001b[0m\u001b[0;34m.\u001b[0m\u001b[0mtab_scraper\u001b[0m \u001b[0;32mimport\u001b[0m \u001b[0mdownload_tab\u001b[0m\u001b[0;34m\u001b[0m\u001b[0;34m\u001b[0m\u001b[0m\n\u001b[0;32m----> 6\u001b[0;31m \u001b[0;32mfrom\u001b[0m \u001b[0mdecibel\u001b[0m\u001b[0;34m.\u001b[0m\u001b[0mfile_scraper\u001b[0m\u001b[0;34m.\u001b[0m\u001b[0maudio_scraper\u001b[0m \u001b[0;32mimport\u001b[0m \u001b[0mdowload_mp3_from_youtube\u001b[0m\u001b[0;34m\u001b[0m\u001b[0;34m\u001b[0m\u001b[0m\n\u001b[0m\u001b[1;32m      7\u001b[0m \u001b[0;32mfrom\u001b[0m \u001b[0myoutube_search\u001b[0m \u001b[0;32mimport\u001b[0m \u001b[0mYoutubeSearch\u001b[0m\u001b[0;34m\u001b[0m\u001b[0;34m\u001b[0m\u001b[0m\n\u001b[1;32m      8\u001b[0m \u001b[0;32mfrom\u001b[0m \u001b[0mdecibel\u001b[0m\u001b[0;34m.\u001b[0m\u001b[0mutils\u001b[0m\u001b[0;34m.\u001b[0m\u001b[0mdeezer_spleeter_wrappers\u001b[0m \u001b[0;32mimport\u001b[0m \u001b[0mspleet_and_replace_all_songs_from_directory\u001b[0m\u001b[0;34m\u001b[0m\u001b[0;34m\u001b[0m\u001b[0m\n",
            "\u001b[0;32m/content/scalableDECIBEL/decibel/file_scraper/audio_scraper.py\u001b[0m in \u001b[0;36m<module>\u001b[0;34m()\u001b[0m\n\u001b[1;32m      1\u001b[0m \u001b[0;32mfrom\u001b[0m \u001b[0m__future__\u001b[0m \u001b[0;32mimport\u001b[0m \u001b[0municode_literals\u001b[0m\u001b[0;34m\u001b[0m\u001b[0;34m\u001b[0m\u001b[0m\n\u001b[1;32m      2\u001b[0m \u001b[0;34m\u001b[0m\u001b[0m\n\u001b[0;32m----> 3\u001b[0;31m \u001b[0;32mimport\u001b[0m \u001b[0myoutube_dl\u001b[0m\u001b[0;34m\u001b[0m\u001b[0;34m\u001b[0m\u001b[0m\n\u001b[0m\u001b[1;32m      4\u001b[0m \u001b[0;34m\u001b[0m\u001b[0m\n\u001b[1;32m      5\u001b[0m \u001b[0;34m\u001b[0m\u001b[0m\n",
            "\u001b[0;31mModuleNotFoundError\u001b[0m: No module named 'youtube_dl'",
            "",
            "\u001b[0;31m---------------------------------------------------------------------------\u001b[0;32m\nNOTE: If your import is failing due to a missing package, you can\nmanually install dependencies using either !pip or !apt.\n\nTo view examples of installing some common dependencies, click the\n\"Open Examples\" button below.\n\u001b[0;31m---------------------------------------------------------------------------\u001b[0m\n"
          ]
        }
      ]
    }
  ]
}